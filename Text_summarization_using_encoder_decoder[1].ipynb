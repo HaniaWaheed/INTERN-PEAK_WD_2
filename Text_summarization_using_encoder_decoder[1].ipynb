{
  "cells": [
    {
      "cell_type": "code",
      "execution_count": 86,
      "metadata": {
        "id": "_-EWAFslTdOP"
      },
      "outputs": [],
      "source": [
        "import numpy as np\n",
        "from tensorflow.keras.models import Model\n",
        "from tensorflow.keras.layers import Input, LSTM, Dense"
      ]
    },
    {
      "cell_type": "code",
      "execution_count": 87,
      "metadata": {
        "id": "vN-OeGOnTf_j"
      },
      "outputs": [],
      "source": [
        "# Data preparation\n",
        "documents = [\n",
        "    \"I love reading books. Books are a great source of knowledge.\",\n",
        "    \"The internet is full of information. We can find answers to our questions online.\",\n",
        "    \"Newspapers provide news from around the world. They keep us updated.\",\n",
        "    \"Studying hard is important for academic success. It helps in achieving good grades.\"\n",
        "]\n",
        "summaries = [\n",
        "    \"Books are a great source of knowledge.\",\n",
        "    \"The internet provides answers to our questions.\",\n",
        "    \"Newspapers keep us updated with news.\",\n",
        "    \"Studying hard leads to academic success.\"\n",
        "]"
      ]
    },
    {
      "cell_type": "code",
      "execution_count": 88,
      "metadata": {
        "id": "0U4B_4T6Tiw4"
      },
      "outputs": [],
      "source": [
        "# Tokenize the documents and summaries\n",
        "from tensorflow.keras.preprocessing.text import Tokenizer\n",
        "from tensorflow.keras.preprocessing.sequence import pad_sequences\n",
        "\n",
        "tokenizer_doc = Tokenizer(num_words=1000)\n",
        "tokenizer_doc.fit_on_texts(documents)\n",
        "sequences_doc = tokenizer_doc.texts_to_sequences(documents)\n",
        "\n",
        "tokenizer_summ = Tokenizer(num_words=1000)\n",
        "tokenizer_summ.fit_on_texts(summaries)\n",
        "sequences_summ = tokenizer_summ.texts_to_sequences(summaries)"
      ]
    },
    {
      "cell_type": "code",
      "execution_count": 89,
      "metadata": {
        "id": "27zV8FqyeDOx"
      },
      "outputs": [],
      "source": [
        "# Pad sequences to the same length\n",
        "max_document_length = max(len(seq) for seq in sequences_doc)\n",
        "max_summary_length = max(len(seq) for seq in sequences_summ)\n",
        "\n",
        "padded_sequences_doc = pad_sequences(sequences_doc, maxlen=max_document_length)\n",
        "padded_sequences_summ = pad_sequences(sequences_summ, maxlen=max_summary_length)"
      ]
    },
    {
      "cell_type": "code",
      "execution_count": 90,
      "metadata": {
        "id": "AUtMpvhkeIIS"
      },
      "outputs": [],
      "source": [
        "# Define the encoder-decoder model\n",
        "encoder_input = Input(shape=(max_document_length,1))\n",
        "encoder = LSTM(128)(encoder_input)\n",
        "\n",
        "decoder_input = Input(shape=(max_summary_length,1))\n",
        "decoder = LSTM(128, return_sequences=True)(decoder_input)\n",
        "decoder_output = Dense(tokenizer_summ.num_words, activation='softmax')(decoder)\n",
        "\n",
        "model = Model([encoder_input, decoder_input], decoder_output)\n"
      ]
    },
    {
      "cell_type": "code",
      "execution_count": 91,
      "metadata": {
        "colab": {
          "base_uri": "https://localhost:8080/"
        },
        "id": "Qd5bslRLeK5m",
        "outputId": "d83427bd-6c83-4564-86cd-4cfc3b84a207"
      },
      "outputs": [
        {
          "name": "stdout",
          "output_type": "stream",
          "text": [
            "Epoch 1/70\n",
            "1/1 [==============================] - 3s 3s/step - loss: 6.8882\n",
            "Epoch 2/70\n",
            "1/1 [==============================] - 0s 18ms/step - loss: 6.8180\n",
            "Epoch 3/70\n",
            "1/1 [==============================] - 0s 20ms/step - loss: 6.7468\n",
            "Epoch 4/70\n",
            "1/1 [==============================] - 0s 17ms/step - loss: 6.6739\n",
            "Epoch 5/70\n",
            "1/1 [==============================] - 0s 18ms/step - loss: 6.5983\n",
            "Epoch 6/70\n",
            "1/1 [==============================] - 0s 19ms/step - loss: 6.5190\n",
            "Epoch 7/70\n",
            "1/1 [==============================] - 0s 25ms/step - loss: 6.4350\n",
            "Epoch 8/70\n",
            "1/1 [==============================] - 0s 22ms/step - loss: 6.3453\n",
            "Epoch 9/70\n",
            "1/1 [==============================] - 0s 19ms/step - loss: 6.2491\n",
            "Epoch 10/70\n",
            "1/1 [==============================] - 0s 19ms/step - loss: 6.1455\n",
            "Epoch 11/70\n",
            "1/1 [==============================] - 0s 17ms/step - loss: 6.0340\n",
            "Epoch 12/70\n",
            "1/1 [==============================] - 0s 21ms/step - loss: 5.9141\n",
            "Epoch 13/70\n",
            "1/1 [==============================] - 0s 18ms/step - loss: 5.7858\n",
            "Epoch 14/70\n",
            "1/1 [==============================] - 0s 17ms/step - loss: 5.6496\n",
            "Epoch 15/70\n",
            "1/1 [==============================] - 0s 19ms/step - loss: 5.5062\n",
            "Epoch 16/70\n",
            "1/1 [==============================] - 0s 21ms/step - loss: 5.3572\n",
            "Epoch 17/70\n",
            "1/1 [==============================] - 0s 18ms/step - loss: 5.2048\n",
            "Epoch 18/70\n",
            "1/1 [==============================] - 0s 18ms/step - loss: 5.0518\n",
            "Epoch 19/70\n",
            "1/1 [==============================] - 0s 19ms/step - loss: 4.9014\n",
            "Epoch 20/70\n",
            "1/1 [==============================] - 0s 17ms/step - loss: 4.7570\n",
            "Epoch 21/70\n",
            "1/1 [==============================] - 0s 19ms/step - loss: 4.6215\n",
            "Epoch 22/70\n",
            "1/1 [==============================] - 0s 18ms/step - loss: 4.4972\n",
            "Epoch 23/70\n",
            "1/1 [==============================] - 0s 22ms/step - loss: 4.3850\n",
            "Epoch 24/70\n",
            "1/1 [==============================] - 0s 17ms/step - loss: 4.2853\n",
            "Epoch 25/70\n",
            "1/1 [==============================] - 0s 20ms/step - loss: 4.1975\n",
            "Epoch 26/70\n",
            "1/1 [==============================] - 0s 17ms/step - loss: 4.1208\n",
            "Epoch 27/70\n",
            "1/1 [==============================] - 0s 20ms/step - loss: 4.0536\n",
            "Epoch 28/70\n",
            "1/1 [==============================] - 0s 16ms/step - loss: 3.9946\n",
            "Epoch 29/70\n",
            "1/1 [==============================] - 0s 15ms/step - loss: 3.9426\n",
            "Epoch 30/70\n",
            "1/1 [==============================] - 0s 16ms/step - loss: 3.8968\n",
            "Epoch 31/70\n",
            "1/1 [==============================] - 0s 18ms/step - loss: 3.8568\n",
            "Epoch 32/70\n",
            "1/1 [==============================] - 0s 19ms/step - loss: 3.8218\n",
            "Epoch 33/70\n",
            "1/1 [==============================] - 0s 22ms/step - loss: 3.7908\n",
            "Epoch 34/70\n",
            "1/1 [==============================] - 0s 17ms/step - loss: 3.7631\n",
            "Epoch 35/70\n",
            "1/1 [==============================] - 0s 17ms/step - loss: 3.7382\n",
            "Epoch 36/70\n",
            "1/1 [==============================] - 0s 16ms/step - loss: 3.7159\n",
            "Epoch 37/70\n",
            "1/1 [==============================] - 0s 17ms/step - loss: 3.6960\n",
            "Epoch 38/70\n",
            "1/1 [==============================] - 0s 18ms/step - loss: 3.6781\n",
            "Epoch 39/70\n",
            "1/1 [==============================] - 0s 17ms/step - loss: 3.6617\n",
            "Epoch 40/70\n",
            "1/1 [==============================] - 0s 17ms/step - loss: 3.6463\n",
            "Epoch 41/70\n",
            "1/1 [==============================] - 0s 18ms/step - loss: 3.6315\n",
            "Epoch 42/70\n",
            "1/1 [==============================] - 0s 17ms/step - loss: 3.6170\n",
            "Epoch 43/70\n",
            "1/1 [==============================] - 0s 26ms/step - loss: 3.6028\n",
            "Epoch 44/70\n",
            "1/1 [==============================] - 0s 18ms/step - loss: 3.5889\n",
            "Epoch 45/70\n",
            "1/1 [==============================] - 0s 18ms/step - loss: 3.5752\n",
            "Epoch 46/70\n",
            "1/1 [==============================] - 0s 17ms/step - loss: 3.5616\n",
            "Epoch 47/70\n",
            "1/1 [==============================] - 0s 18ms/step - loss: 3.5483\n",
            "Epoch 48/70\n",
            "1/1 [==============================] - 0s 18ms/step - loss: 3.5351\n",
            "Epoch 49/70\n",
            "1/1 [==============================] - 0s 17ms/step - loss: 3.5220\n",
            "Epoch 50/70\n",
            "1/1 [==============================] - 0s 17ms/step - loss: 3.5092\n",
            "Epoch 51/70\n",
            "1/1 [==============================] - 0s 17ms/step - loss: 3.4965\n",
            "Epoch 52/70\n",
            "1/1 [==============================] - 0s 18ms/step - loss: 3.4840\n",
            "Epoch 53/70\n",
            "1/1 [==============================] - 0s 22ms/step - loss: 3.4714\n",
            "Epoch 54/70\n",
            "1/1 [==============================] - 0s 18ms/step - loss: 3.4589\n",
            "Epoch 55/70\n",
            "1/1 [==============================] - 0s 19ms/step - loss: 3.4467\n",
            "Epoch 56/70\n",
            "1/1 [==============================] - 0s 18ms/step - loss: 3.4346\n",
            "Epoch 57/70\n",
            "1/1 [==============================] - 0s 19ms/step - loss: 3.4225\n",
            "Epoch 58/70\n",
            "1/1 [==============================] - 0s 18ms/step - loss: 3.4104\n",
            "Epoch 59/70\n",
            "1/1 [==============================] - 0s 18ms/step - loss: 3.3980\n",
            "Epoch 60/70\n",
            "1/1 [==============================] - 0s 20ms/step - loss: 3.3857\n",
            "Epoch 61/70\n",
            "1/1 [==============================] - 0s 18ms/step - loss: 3.3736\n",
            "Epoch 62/70\n",
            "1/1 [==============================] - 0s 16ms/step - loss: 3.3619\n",
            "Epoch 63/70\n",
            "1/1 [==============================] - 0s 27ms/step - loss: 3.3503\n",
            "Epoch 64/70\n",
            "1/1 [==============================] - 0s 20ms/step - loss: 3.3383\n",
            "Epoch 65/70\n",
            "1/1 [==============================] - 0s 18ms/step - loss: 3.3259\n",
            "Epoch 66/70\n",
            "1/1 [==============================] - 0s 21ms/step - loss: 3.3130\n",
            "Epoch 67/70\n",
            "1/1 [==============================] - 0s 17ms/step - loss: 3.2999\n",
            "Epoch 68/70\n",
            "1/1 [==============================] - 0s 21ms/step - loss: 3.2869\n",
            "Epoch 69/70\n",
            "1/1 [==============================] - 0s 21ms/step - loss: 3.2742\n",
            "Epoch 70/70\n",
            "1/1 [==============================] - 0s 18ms/step - loss: 3.2617\n"
          ]
        },
        {
          "data": {
            "text/plain": [
              "<keras.callbacks.History at 0x7f09f8317f40>"
            ]
          },
          "execution_count": 91,
          "metadata": {},
          "output_type": "execute_result"
        }
      ],
      "source": [
        "# Compile and train the model\n",
        "model.compile(optimizer='adam', loss='sparse_categorical_crossentropy')\n",
        "model.fit([padded_sequences_doc, padded_sequences_summ], np.expand_dims(padded_sequences_summ, -1), batch_size=25, epochs=70)"
      ]
    },
    {
      "cell_type": "code",
      "execution_count": 92,
      "metadata": {
        "id": "cge8mowceNFK"
      },
      "outputs": [],
      "source": [
        "# Generate summaries for new documents\n",
        "new_documents = [\n",
        "    \"Reading is my favorite hobby. I enjoy exploring different genres of books.\",\n",
        "    \"The internet has revolutionized the way we access information.\",\n",
        "    \"Newspapers play a crucial role in journalism and democracy.\",\n",
        "    \"Studying smart is more important than studying hard for academic success.\"\n",
        "]\n",
        "new_sequences_doc = tokenizer_doc.texts_to_sequences(new_documents)\n",
        "padded_new_sequences_doc = pad_sequences(new_sequences_doc, maxlen=max_document_length)\n",
        "\n",
        "encoder_input_data = padded_new_sequences_doc\n",
        "decoder_input_data = np.zeros((len(new_documents), max_summary_length))"
      ]
    },
    {
      "cell_type": "code",
      "execution_count": 93,
      "metadata": {
        "colab": {
          "base_uri": "https://localhost:8080/"
        },
        "id": "VuUxEDeveRA-",
        "outputId": "afacb672-5186-4742-fb9d-56ab22e56cfe"
      },
      "outputs": [
        {
          "name": "stderr",
          "output_type": "stream",
          "text": [
            "WARNING:tensorflow:5 out of the last 5 calls to <function Model.make_predict_function.<locals>.predict_function at 0x7f09f8565e10> triggered tf.function retracing. Tracing is expensive and the excessive number of tracings could be due to (1) creating @tf.function repeatedly in a loop, (2) passing tensors with different shapes, (3) passing Python objects instead of tensors. For (1), please define your @tf.function outside of the loop. For (2), @tf.function has reduce_retracing=True option that can avoid unnecessary retracing. For (3), please refer to https://www.tensorflow.org/guide/function#controlling_retracing and https://www.tensorflow.org/api_docs/python/tf/function for  more details.\n"
          ]
        },
        {
          "name": "stdout",
          "output_type": "stream",
          "text": [
            "1/1 [==============================] - 0s 474ms/step\n"
          ]
        }
      ],
      "source": [
        "# Generate summaries using the trained model\n",
        "decoded_sequences = model.predict([encoder_input_data, decoder_input_data])"
      ]
    },
    {
      "cell_type": "code",
      "execution_count": 94,
      "metadata": {
        "id": "NzPDD1UPeVz9"
      },
      "outputs": [],
      "source": [
        "# Convert predicted sequences to text summaries\n",
        "predicted_summaries = []\n",
        "for decoded_sequence in decoded_sequences:\n",
        "    summary = []\n",
        "    for token_id in decoded_sequence.argmax(axis=1):\n",
        "        word = tokenizer_summ.index_word[token_id]\n",
        "        if word is None or word == '<pad>':\n",
        "            break\n",
        "        summary.append(word)\n",
        "    predicted_summaries.append(' '.join(summary))"
      ]
    },
    {
      "cell_type": "code",
      "execution_count": 95,
      "metadata": {
        "colab": {
          "base_uri": "https://localhost:8080/"
        },
        "id": "IxsT37g2eY9x",
        "outputId": "8162ae09-29d4-42b5-feee-a567a394b230"
      },
      "outputs": [
        {
          "name": "stdout",
          "output_type": "stream",
          "text": [
            "Document: Reading is my favorite hobby. I enjoy exploring different genres of books.\n",
            "Predicted Summary: are a to to to to to\n",
            "\n",
            "Document: The internet has revolutionized the way we access information.\n",
            "Predicted Summary: are a to to to to to\n",
            "\n",
            "Document: Newspapers play a crucial role in journalism and democracy.\n",
            "Predicted Summary: are a to to to to to\n",
            "\n",
            "Document: Studying smart is more important than studying hard for academic success.\n",
            "Predicted Summary: are a to to to to to\n",
            "\n"
          ]
        }
      ],
      "source": [
        "# Print the predicted summaries\n",
        "for document, summary in zip(new_documents, predicted_summaries):\n",
        "    print('Document:', document)\n",
        "    print('Predicted Summary:', summary)\n",
        "    print()"
      ]
    }
  ],
  "metadata": {
    "colab": {
      "provenance": []
    },
    "kernelspec": {
      "display_name": "Python 3",
      "name": "python3"
    },
    "language_info": {
      "name": "python"
    }
  },
  "nbformat": 4,
  "nbformat_minor": 0
}
